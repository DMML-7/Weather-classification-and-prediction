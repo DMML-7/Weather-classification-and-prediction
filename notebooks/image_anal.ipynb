{
 "cells": [
  {
   "cell_type": "code",
   "execution_count": 52,
   "metadata": {},
   "outputs": [],
   "source": [
    "import numpy as np\n",
    "import tensorflow as tf\n",
    "import keras  \n",
    "from tensorflow import keras\n",
    "from keras._tf_keras.keras.preprocessing.image import img_to_array\n",
    "# from tensorflow.keras.preprocessing.image import img_to_array\n",
    "from PIL import Image\n",
    "import os\n",
    "import glob \n",
    "from skimage import io \n",
    "import skimage\n",
    "import random \n",
    "import numpy as np\n",
    "import matplotlib.pyplot as plt  \n",
    "%matplotlib inline"
   ]
  },
  {
   "cell_type": "code",
   "execution_count": 44,
   "metadata": {},
   "outputs": [],
   "source": [
    "dataset_path = os.getcwd() + '/dataset'\n",
    "cats = ['dew', 'fogsmog', 'frost', 'glaze', 'hail', 'lightning', 'rain', 'rainbow', 'rime', 'sandstorm', 'snow']\n"
   ]
  },
  {
   "cell_type": "code",
   "execution_count": 45,
   "metadata": {},
   "outputs": [],
   "source": [
    "# cropping all images by remove 50 pixsels from top and bottom\n",
    "def crop_all_images(input_folder, output_folder, crop=(0, 25, 0, 25)):\n",
    "    if not os.path.exists(output_folder):\n",
    "        os.makedirs(output_folder)\n",
    "        for filename in os.listdir(input_folder):\n",
    "            if filename.endswith(\".jpg\") or filename.endswith(\".png\"):\n",
    "                img = Image.open(os.path.join(input_folder, filename))\n",
    "                img_cropped = img.crop((crop[0], crop[1], img.width - crop[2], img.height - crop[3])).convert('RGB')\n",
    "                img_cropped.save(os.path.join(output_folder, filename))\n",
    "\n",
    "for cat in cats:\n",
    "    crop_all_images(dataset_path + '/' + cat, dataset_path + '/cropped/' + cat)"
   ]
  },
  {
   "cell_type": "code",
   "execution_count": 39,
   "metadata": {},
   "outputs": [],
   "source": [
    "# converting all images to 128 x 128\n",
    "def resize_images(input_folder, output_folder, size=(128, 128)):\n",
    "    if not os.path.exists(output_folder):\n",
    "        os.makedirs(output_folder)\n",
    "\n",
    "    for filename in os.listdir(input_folder):\n",
    "        if filename.endswith(\".jpg\") or filename.endswith(\".png\"):\n",
    "            img = Image.open(os.path.join(input_folder, filename))\n",
    "            img_resized = img.resize(size).convert('RGB')\n",
    "            img_resized.save(os.path.join(output_folder, filename))\n",
    "            \n",
    "for cat in cats:\n",
    "    resize_images(dataset_path + '/cropped/' + cat, dataset_path + '/cropped_resized/' + cat)"
   ]
  },
  {
   "cell_type": "code",
   "execution_count": 40,
   "metadata": {},
   "outputs": [],
   "source": [
    "# convert all images to grayscale\n",
    "def convert_to_grayscale(input_folder, output_folder):\n",
    "    if not os.path.exists(output_folder):\n",
    "        os.makedirs(output_folder)\n",
    "\n",
    "    for filename in os.listdir(input_folder):\n",
    "        if filename.endswith(\".jpg\") or filename.endswith(\".png\"):\n",
    "            img = Image.open(os.path.join(input_folder, filename))\n",
    "            img = img.convert('L')    \n",
    "            img.save(os.path.join(output_folder, filename))\n",
    "\n",
    "for cat in cats:\n",
    "    convert_to_grayscale(dataset_path + '/cropped_resized/' + cat, dataset_path + '/cropped_resized_grayscale/' + cat)"
   ]
  },
  {
   "cell_type": "code",
   "execution_count": 58,
   "metadata": {},
   "outputs": [
    {
     "ename": "AttributeError",
     "evalue": "'numpy.ndarray' object has no attribute 'append'",
     "output_type": "error",
     "traceback": [
      "\u001b[1;31m---------------------------------------------------------------------------\u001b[0m",
      "\u001b[1;31mAttributeError\u001b[0m                            Traceback (most recent call last)",
      "Cell \u001b[1;32mIn[58], line 12\u001b[0m\n\u001b[0;32m      9\u001b[0m     \u001b[38;5;28;01mreturn\u001b[39;00m np\u001b[38;5;241m.\u001b[39marray(images)\n\u001b[0;32m     11\u001b[0m \u001b[38;5;28;01mfor\u001b[39;00m cat \u001b[38;5;129;01min\u001b[39;00m cats:\n\u001b[1;32m---> 12\u001b[0m     images \u001b[38;5;241m=\u001b[39m \u001b[43mnormalize_images\u001b[49m\u001b[43m(\u001b[49m\u001b[43mdataset_path\u001b[49m\u001b[43m \u001b[49m\u001b[38;5;241;43m+\u001b[39;49m\u001b[43m \u001b[49m\u001b[38;5;124;43m'\u001b[39;49m\u001b[38;5;124;43m/cropped_resized_grayscale/\u001b[39;49m\u001b[38;5;124;43m'\u001b[39;49m\u001b[43m \u001b[49m\u001b[38;5;241;43m+\u001b[39;49m\u001b[43m \u001b[49m\u001b[43mcat\u001b[49m\u001b[43m)\u001b[49m\n",
      "Cell \u001b[1;32mIn[58], line 8\u001b[0m, in \u001b[0;36mnormalize_images\u001b[1;34m(input_folder)\u001b[0m\n\u001b[0;32m      6\u001b[0m         img \u001b[38;5;241m=\u001b[39m Image\u001b[38;5;241m.\u001b[39mopen(os\u001b[38;5;241m.\u001b[39mpath\u001b[38;5;241m.\u001b[39mjoin(input_folder, filename))\n\u001b[0;32m      7\u001b[0m         img_array \u001b[38;5;241m=\u001b[39m img_to_array(img) \u001b[38;5;241m/\u001b[39m \u001b[38;5;241m255.0\u001b[39m  \u001b[38;5;66;03m# Normalizing between 0 and 1\u001b[39;00m\n\u001b[1;32m----> 8\u001b[0m         \u001b[43mimages\u001b[49m\u001b[38;5;241;43m.\u001b[39;49m\u001b[43mappend\u001b[49m(img_array)\n\u001b[0;32m      9\u001b[0m \u001b[38;5;28;01mreturn\u001b[39;00m np\u001b[38;5;241m.\u001b[39marray(images)\n",
      "\u001b[1;31mAttributeError\u001b[0m: 'numpy.ndarray' object has no attribute 'append'"
     ]
    }
   ],
   "source": [
    "#normalize all images\n",
    "images = np.array([])\n",
    "def normalize_images(input_folder):\n",
    "    for filename in os.listdir(input_folder):\n",
    "        if filename.endswith(\".jpg\") or filename.endswith(\".png\"):\n",
    "            img = Image.open(os.path.join(input_folder, filename))\n",
    "            img_array = img_to_array(img) / 255.0  # Normalizing between 0 and 1\n",
    "            images.append(img_array)\n",
    "    return np.array(images)\n",
    "\n",
    "for cat in cats:\n",
    "    images = normalize_images(dataset_path + '/cropped_resized_grayscale/' + cat)"
   ]
  },
  {
   "cell_type": "code",
   "execution_count": 56,
   "metadata": {},
   "outputs": [
    {
     "ename": "AttributeError",
     "evalue": "'numpy.ndarray' object has no attribute 'head'",
     "output_type": "error",
     "traceback": [
      "\u001b[1;31m---------------------------------------------------------------------------\u001b[0m",
      "\u001b[1;31mAttributeError\u001b[0m                            Traceback (most recent call last)",
      "Cell \u001b[1;32mIn[56], line 1\u001b[0m\n\u001b[1;32m----> 1\u001b[0m \u001b[38;5;28mprint\u001b[39m(\u001b[43mimages\u001b[49m\u001b[38;5;241;43m.\u001b[39;49m\u001b[43mhead\u001b[49m())\n",
      "\u001b[1;31mAttributeError\u001b[0m: 'numpy.ndarray' object has no attribute 'head'"
     ]
    }
   ],
   "source": [
    "print(images.head())"
   ]
  }
 ],
 "metadata": {
  "kernelspec": {
   "display_name": "Python 3",
   "language": "python",
   "name": "python3"
  },
  "language_info": {
   "codemirror_mode": {
    "name": "ipython",
    "version": 3
   },
   "file_extension": ".py",
   "mimetype": "text/x-python",
   "name": "python",
   "nbconvert_exporter": "python",
   "pygments_lexer": "ipython3",
   "version": "3.12.1"
  }
 },
 "nbformat": 4,
 "nbformat_minor": 2
}
